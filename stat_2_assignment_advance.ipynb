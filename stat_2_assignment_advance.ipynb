{
 "cells": [
  {
   "cell_type": "code",
   "execution_count": 1,
   "id": "6d65daf0-21ec-478b-9818-eac5474fa51a",
   "metadata": {},
   "outputs": [],
   "source": [
    "# Ques 1 \n",
    "# ans - In probability theory, a probability density function (PDF) is used to define the random variable’s probability coming within a distinct range of values, as opposed to taking on any one value. The function explains the probability density function of normal distribution and how mean and deviation exists"
   ]
  },
  {
   "cell_type": "code",
   "execution_count": 2,
   "id": "a7b0ccd5-a7a7-4ac2-97e4-79abc59a9a06",
   "metadata": {},
   "outputs": [],
   "source": [
    "# Q2. What are the types of Probability distribution?\n",
    "# ans - 6 types of probability distribution are -\n",
    "#  1.> NOrmal/Gaussian Distribution\n",
    "#  2.> Bernouli Distribution\n",
    "#  3.> Uniform distribution \n",
    "#  4.> Poisson Distribution \n",
    "#  5.> Log Normal distribution\n",
    "#  6.> Binary Distribution "
   ]
  },
  {
   "cell_type": "code",
   "execution_count": 7,
   "id": "e2132dd5-6ff2-4a21-bcee-a375365020c1",
   "metadata": {},
   "outputs": [],
   "source": [
    "# Ques 3\n",
    "# ans-\n",
    "from scipy.stats import norm \n",
    "import numpy as np \n",
    "\n",
    "data_start=-5\n",
    "data_end =5\n",
    "data_points=11\n",
    "data=np.linspace(data_start,data_end,data_points)\n",
    "mean = np.mean(data)\n",
    "std=np.std(data)\n",
    "\n",
    "probability_pdf =norm.pdf(3,loc=mean,scale =std)\n",
    "                   "
   ]
  },
  {
   "cell_type": "code",
   "execution_count": 8,
   "id": "9e9cd4ea-3896-4f84-9111-c2dbb8b4fd48",
   "metadata": {},
   "outputs": [
    {
     "data": {
      "text/plain": [
       "0.0804410163156249"
      ]
     },
     "execution_count": 8,
     "metadata": {},
     "output_type": "execute_result"
    }
   ],
   "source": [
    "probability_pdf"
   ]
  },
  {
   "cell_type": "code",
   "execution_count": 9,
   "id": "6b6da091-a5b2-4329-83d0-0f09a58794e8",
   "metadata": {},
   "outputs": [],
   "source": [
    "#Ques 4 \n",
    "#ans-Properties of Binomial distribution are--\n",
    "## 1.> it applied for Discreate Random Variable.\n",
    "## 2.> Every Experinment outcome is Binary.\n",
    "## 3.> this experinment is performed for n trials.\n",
    "\n",
    "#  example of binary distribution are - tossing a coin 7 times, rolling a dice 4 times, to find the no .of male & female employees in an organization .\n"
   ]
  },
  {
   "cell_type": "code",
   "execution_count": 32,
   "id": "2638d15e-feeb-42f4-8130-5bf98b9664fb",
   "metadata": {},
   "outputs": [],
   "source": [
    "# Ques 5 - plot a histogram"
   ]
  },
  {
   "cell_type": "code",
   "execution_count": 31,
   "id": "52b44e59-cf4d-4908-bc5e-a9ae533ca76c",
   "metadata": {},
   "outputs": [
    {
     "name": "stderr",
     "output_type": "stream",
     "text": [
      "/tmp/ipykernel_77/3824938688.py:4: UserWarning: \n",
      "\n",
      "`distplot` is a deprecated function and will be removed in seaborn v0.14.0.\n",
      "\n",
      "Please adapt your code to use either `displot` (a figure-level function with\n",
      "similar flexibility) or `histplot` (an axes-level function for histograms).\n",
      "\n",
      "For a guide to updating your code to use the new functions, please see\n",
      "https://gist.github.com/mwaskom/de44147ed2974457ad6372750bbe5751\n",
      "\n",
      "  sns.distplot(random.binomial(n=10,p=0.4,size =1000))\n"
     ]
    },
    {
     "data": {
      "image/png": "[encoded data removed]",
      "text/plain": [
       "<Figure size 640x480 with 1 Axes>"
      ]
     },
     "metadata": {},
     "output_type": "display_data"
    }
   ],
   "source": [
    "from numpy import random\n",
    "import matplotlib.pyplot as plt \n",
    "import seaborn as sns \n",
    "sns.distplot(random.binomial(n=10,p=0.4,size =1000))\n",
    "plt.show()"
   ]
  },
  {
   "cell_type": "code",
   "execution_count": 33,
   "id": "ad231f2c-8051-4b09-955f-88e528b592a9",
   "metadata": {},
   "outputs": [
    {
     "name": "stdout",
     "output_type": "stream",
     "text": [
      "The cumulative distribution function at point 3 for mean 2.5 is: 0.7576\n"
     ]
    }
   ],
   "source": [
    "# Ques 6 -\n",
    "import math\n",
    "\n",
    "def poisson_cdf(k, mean):\n",
    "    if k < 0 or mean <= 0:\n",
    "        raise ValueError(\"k must be a non-negative integer and mean must be positive.\")\n",
    "    \n",
    "    cdf = 0.0\n",
    "    for i in range(k + 1):\n",
    "        cdf += math.exp(-mean) * (mean ** i) / math.factorial(i)\n",
    "    \n",
    "    return cdf\n",
    "\n",
    "# Example usage:\n",
    "mean = 2.5\n",
    "point = 3\n",
    "result = poisson_cdf(point, mean)\n",
    "print(f\"The cumulative distribution function at point {point} for mean {mean} is: {result:.4f}\")\n"
   ]
  },
  {
   "cell_type": "code",
   "execution_count": 34,
   "id": "934065df-f3ca-42d8-9c6f-7f69482f0ab1",
   "metadata": {},
   "outputs": [],
   "source": [
    "# Ques 7 \n",
    "# ans -Binomial Distribution - Binomial distribution is one in which the probability of repeated number of trials are studied.\t\n",
    "#                              nature is Biparametric.\n",
    "#                              Number of trials is Fixed.\n",
    "#                              only two possible outcomes, Mean>Variance\n",
    "#      example- coin tossing experinment\n",
    "\n",
    "#     Poisson Distribution-- Poisson Distribution gives the count of independent events occur randomly with a given period of time.\n",
    "#                            nature is Uniparametric\n",
    "#                            Infinite no of trials.\n",
    "#                            unlimited number of possible outcomes.Mean = Variance\n",
    "#     example - Printing mistake"
   ]
  },
  {
   "cell_type": "code",
   "execution_count": 38,
   "id": "5a291938-591f-439f-a265-a1c5d3258741",
   "metadata": {},
   "outputs": [
    {
     "name": "stdout",
     "output_type": "stream",
     "text": [
      "Sample mean: 5.05\n",
      "Sample variance: 4.88\n"
     ]
    }
   ],
   "source": [
    "# Ques 8\n",
    "import numpy as np\n",
    "\n",
    "def sample_mean_variance(sample):\n",
    "    sample_mean = np.mean(sample)\n",
    "    sample_variance = np.var(sample, ddof=1)  # Using ddof=1 for unbiased sample variance\n",
    "    return sample_mean, sample_variance\n",
    "\n",
    "# Generate a random sample of size 1000 from Poisson distribution with mean 5\n",
    "mean = 5\n",
    "sample_size = 1000\n",
    "random_sample = np.random.poisson(mean, sample_size)\n",
    "\n",
    "# Calculate the sample mean and variance\n",
    "mean_sample, variance_sample = sample_mean_variance(random_sample)\n",
    "\n",
    "print(f\"Sample mean: {mean_sample:.2f}\")\n",
    "print(f\"Sample variance: {variance_sample:.2f}\")\n"
   ]
  },
  {
   "cell_type": "code",
   "execution_count": 39,
   "id": "88fd3707-0910-4fe3-b3b8-19c62143ea0e",
   "metadata": {},
   "outputs": [],
   "source": [
    "#Ques 9 \n",
    "#ans -In the Binomial distribution, Mean (μ) = n * p and Variance (σ^2) = n * p * (1 - p), where n is the number of trials and p is the probability of success.\n",
    "\n",
    "#     In the Poisson distribution, Mean (μ) = λ and Variance (σ^2) = λ, where λ is the average rate of occurrence of events."
   ]
  },
  {
   "cell_type": "code",
   "execution_count": null,
   "id": "d75e6583-8732-4e64-8e40-7239faa2ad82",
   "metadata": {},
   "outputs": [],
   "source": [
    "#Ques 10 -\n",
    "#ans-"
   ]
  }
 ],
 "metadata": {
  "kernelspec": {
   "display_name": "Python 3 (ipykernel)",
   "language": "python",
   "name": "python3"
  },
  "language_info": {
   "codemirror_mode": {
    "name": "ipython",
    "version": 3
   },
   "file_extension": ".py",
   "mimetype": "text/x-python",
   "name": "python",
   "nbconvert_exporter": "python",
   "pygments_lexer": "ipython3",
   "version": "3.10.8"
  }
 },
 "nbformat": 4,
 "nbformat_minor": 5
}
